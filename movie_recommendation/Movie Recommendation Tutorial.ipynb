{
 "cells": [
  {
   "cell_type": "markdown",
   "metadata": {},
   "source": [
    "### Understanding Sparse Matrix\n",
    "\n",
    "Sparse matrix is constructed by row, col, value format. One of the problem of sparse matrix is that it's hard to extract values from it as it contains a lot of zeros. To solve this problem, by converting sparse matrix into compressed sparse row, we can easily obtain the value required without going through huge number of zeros."
   ]
  },
  {
   "cell_type": "code",
   "execution_count": 23,
   "metadata": {},
   "outputs": [],
   "source": [
    "import numpy as np\n",
    "from lightfm.datasets import fetch_movielens\n",
    "from lightfm import LightFM\n",
    "from lightfm.evaluation import precision_at_k"
   ]
  },
  {
   "cell_type": "code",
   "execution_count": 4,
   "metadata": {},
   "outputs": [],
   "source": [
    "data = fetch_movielens(min_rating=4.0)"
   ]
  },
  {
   "cell_type": "code",
   "execution_count": 14,
   "metadata": {},
   "outputs": [
    {
     "name": "stdout",
     "output_type": "stream",
     "text": [
      "train <class 'scipy.sparse.coo.coo_matrix'> (943, 1682)\n",
      "test <class 'scipy.sparse.coo.coo_matrix'> (943, 1682)\n",
      "item_features <class 'scipy.sparse.csr.csr_matrix'> (1682, 1682)\n",
      "item_feature_labels <class 'numpy.ndarray'> (1682,)\n",
      "item_labels <class 'numpy.ndarray'> (1682,)\n"
     ]
    }
   ],
   "source": [
    "for key, value in data.items():\n",
    "    print(key, type(value), value.shape)"
   ]
  },
  {
   "cell_type": "code",
   "execution_count": 17,
   "metadata": {},
   "outputs": [],
   "source": [
    "model = LightFM(loss='warp')"
   ]
  },
  {
   "cell_type": "code",
   "execution_count": 18,
   "metadata": {},
   "outputs": [
    {
     "data": {
      "text/plain": [
       "<lightfm.lightfm.LightFM at 0x10cd1d790>"
      ]
     },
     "execution_count": 18,
     "metadata": {},
     "output_type": "execute_result"
    }
   ],
   "source": [
    "model.fit(data['train'], epochs=30, num_threads=2)"
   ]
  },
  {
   "cell_type": "markdown",
   "metadata": {},
   "source": [
    "943 rows 1682 cols with 49906 values \n",
    "* each row represents a user\n",
    "* each columns represent a movie with it's rating\n",
    "\n",
    "1. convert to compressed sparse row\n",
    "2. get user id and it's indices\n",
    "3. use the indices to obtain movie names"
   ]
  },
  {
   "cell_type": "code",
   "execution_count": 62,
   "metadata": {},
   "outputs": [
    {
     "data": {
      "text/plain": [
       "array([[5., 0., 4., ..., 0., 0., 0.],\n",
       "       [4., 0., 0., ..., 0., 0., 0.],\n",
       "       [0., 0., 0., ..., 0., 0., 0.],\n",
       "       ...,\n",
       "       [5., 0., 0., ..., 0., 0., 0.],\n",
       "       [0., 0., 0., ..., 0., 0., 0.],\n",
       "       [0., 5., 0., ..., 0., 0., 0.]], dtype=float32)"
      ]
     },
     "execution_count": 62,
     "metadata": {},
     "output_type": "execute_result"
    }
   ],
   "source": [
    "data['train'].toarray()"
   ]
  },
  {
   "cell_type": "markdown",
   "metadata": {},
   "source": [
    "User Id 1 with rated movie indices"
   ]
  },
  {
   "cell_type": "code",
   "execution_count": 64,
   "metadata": {},
   "outputs": [
    {
     "data": {
      "text/plain": [
       "array([  0,  13,  24,  99, 110, 126, 236, 241, 254, 256, 268, 271, 272,\n",
       "       274, 275, 276, 278, 281, 282, 283, 284, 285, 292, 294, 298, 299,\n",
       "       300, 301, 302, 303, 305, 309, 310, 312, 315], dtype=int32)"
      ]
     },
     "execution_count": 64,
     "metadata": {},
     "output_type": "execute_result"
    }
   ],
   "source": [
    "data['train'].tocsr()[1].indices"
   ]
  },
  {
   "cell_type": "markdown",
   "metadata": {},
   "source": [
    "By using the indicies we can obtain the movie names from labels"
   ]
  },
  {
   "cell_type": "code",
   "execution_count": 60,
   "metadata": {},
   "outputs": [
    {
     "data": {
      "text/plain": [
       "array(['Toy Story (1995)', 'Postino, Il (1994)', 'Birdcage, The (1996)',\n",
       "       'Fargo (1996)', 'Truth About Cats & Dogs, The (1996)',\n",
       "       'Godfather, The (1972)', 'Jerry Maguire (1996)', 'Kolya (1996)',\n",
       "       \"My Best Friend's Wedding (1997)\", 'Men in Black (1997)',\n",
       "       'Full Monty, The (1997)', 'Good Will Hunting (1997)',\n",
       "       'Heat (1995)', 'Sense and Sensibility (1995)',\n",
       "       'Leaving Las Vegas (1995)', 'Restoration (1995)',\n",
       "       'Once Upon a Time... When We Were Colored (1995)',\n",
       "       'Time to Kill, A (1996)', 'Emma (1996)', 'Tin Cup (1996)',\n",
       "       'Secrets & Lies (1996)', 'English Patient, The (1996)',\n",
       "       'Donnie Brasco (1997)', 'Breakdown (1997)', 'Hoodlum (1997)',\n",
       "       'Air Force One (1997)', 'In & Out (1997)',\n",
       "       'L.A. Confidential (1997)', \"Ulee's Gold (1997)\",\n",
       "       'Fly Away Home (1996)',\n",
       "       'Mrs. Brown (Her Majesty, Mrs. Brown) (1997)',\n",
       "       'Rainmaker, The (1997)', 'Wings of the Dove, The (1997)',\n",
       "       'Titanic (1997)', 'As Good As It Gets (1997)'], dtype=object)"
      ]
     },
     "execution_count": 60,
     "metadata": {},
     "output_type": "execute_result"
    }
   ],
   "source": [
    "data['item_feature_labels'][data['train'].tocsr()[1].indices]"
   ]
  },
  {
   "cell_type": "code",
   "execution_count": 61,
   "metadata": {},
   "outputs": [
    {
     "data": {
      "text/plain": [
       "array(['Toy Story (1995)', 'Postino, Il (1994)', 'Birdcage, The (1996)',\n",
       "       'Fargo (1996)', 'Truth About Cats & Dogs, The (1996)',\n",
       "       'Godfather, The (1972)', 'Jerry Maguire (1996)', 'Kolya (1996)',\n",
       "       \"My Best Friend's Wedding (1997)\", 'Men in Black (1997)',\n",
       "       'Full Monty, The (1997)', 'Good Will Hunting (1997)',\n",
       "       'Heat (1995)', 'Sense and Sensibility (1995)',\n",
       "       'Leaving Las Vegas (1995)', 'Restoration (1995)',\n",
       "       'Once Upon a Time... When We Were Colored (1995)',\n",
       "       'Time to Kill, A (1996)', 'Emma (1996)', 'Tin Cup (1996)',\n",
       "       'Secrets & Lies (1996)', 'English Patient, The (1996)',\n",
       "       'Donnie Brasco (1997)', 'Breakdown (1997)', 'Hoodlum (1997)',\n",
       "       'Air Force One (1997)', 'In & Out (1997)',\n",
       "       'L.A. Confidential (1997)', \"Ulee's Gold (1997)\",\n",
       "       'Fly Away Home (1996)',\n",
       "       'Mrs. Brown (Her Majesty, Mrs. Brown) (1997)',\n",
       "       'Rainmaker, The (1997)', 'Wings of the Dove, The (1997)',\n",
       "       'Titanic (1997)', 'As Good As It Gets (1997)'], dtype=object)"
      ]
     },
     "execution_count": 61,
     "metadata": {},
     "output_type": "execute_result"
    }
   ],
   "source": [
    "data['item_labels'][data['train'].tocsr()[1].indices]"
   ]
  },
  {
   "cell_type": "code",
   "execution_count": 30,
   "metadata": {},
   "outputs": [],
   "source": [
    "def sample_recommendation(model, data, user_ids):\n",
    "    n_users, n_items = data['train'].shape\n",
    "    \n",
    "    for user_id in user_ids:\n",
    "        \n",
    "        known_positives = data['item_labels'][data['train'].tocsr()[user_id].indices]\n",
    "        \n",
    "        score = model.predict(user_id, np.arange(n_items))\n",
    "        \n",
    "        top_items = data['item_labels'][np.argsort(-score)]\n",
    "        \n",
    "        print(\"\\nUser %s\" % user_id)\n",
    "        print(\"\\nKnown positives: \")\n",
    "        \n",
    "        for x in known_positives[:3]:\n",
    "            print(\"%s\" % x)\n",
    "        \n",
    "        print(\"\\nRecommended: \")\n",
    "        \n",
    "        for x in top_items[:3]:\n",
    "            print(\"%s\" % x)"
   ]
  },
  {
   "cell_type": "code",
   "execution_count": 31,
   "metadata": {},
   "outputs": [
    {
     "name": "stdout",
     "output_type": "stream",
     "text": [
      "\n",
      "User 3\n",
      "\n",
      "Known positives: \n",
      "Seven (Se7en) (1995)\n",
      "Contact (1997)\n",
      "Starship Troopers (1997)\n",
      "\n",
      "Recommended: \n",
      "Scream (1996)\n",
      "Starship Troopers (1997)\n",
      "Contact (1997)\n",
      "\n",
      "User 25\n",
      "\n",
      "Known positives: \n",
      "Dead Man Walking (1995)\n",
      "Star Wars (1977)\n",
      "Fargo (1996)\n",
      "\n",
      "Recommended: \n",
      "Titanic (1997)\n",
      "Contact (1997)\n",
      "English Patient, The (1996)\n",
      "\n",
      "User 450\n",
      "\n",
      "Known positives: \n",
      "Contact (1997)\n",
      "George of the Jungle (1997)\n",
      "Event Horizon (1997)\n",
      "\n",
      "Recommended: \n",
      "Scream (1996)\n",
      "Kiss the Girls (1997)\n",
      "Starship Troopers (1997)\n"
     ]
    }
   ],
   "source": [
    "sample_recommendation(model, data, [3,25,450])"
   ]
  },
  {
   "cell_type": "code",
   "execution_count": null,
   "metadata": {},
   "outputs": [],
   "source": []
  }
 ],
 "metadata": {
  "kernelspec": {
   "display_name": "Python 3",
   "language": "python",
   "name": "python3"
  },
  "language_info": {
   "codemirror_mode": {
    "name": "ipython",
    "version": 3
   },
   "file_extension": ".py",
   "mimetype": "text/x-python",
   "name": "python",
   "nbconvert_exporter": "python",
   "pygments_lexer": "ipython3",
   "version": "3.7.4"
  }
 },
 "nbformat": 4,
 "nbformat_minor": 2
}
