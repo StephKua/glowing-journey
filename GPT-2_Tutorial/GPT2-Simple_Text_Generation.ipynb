{
 "cells": [
  {
   "cell_type": "code",
   "execution_count": 1,
   "metadata": {},
   "outputs": [],
   "source": [
    "import torch\n",
    "from torch.nn import functional as F\n",
    "from pytorch_pretrained_bert import GPT2Tokenizer, GPT2LMHeadModel"
   ]
  },
  {
   "cell_type": "code",
   "execution_count": 2,
   "metadata": {},
   "outputs": [
    {
     "name": "stderr",
     "output_type": "stream",
     "text": [
      "100%|██████████| 1042301/1042301 [00:03<00:00, 318807.83B/s]\n",
      "100%|██████████| 456318/456318 [00:01<00:00, 345311.71B/s]\n",
      "100%|██████████| 548118077/548118077 [14:18<00:00, 638683.66B/s] \n",
      "100%|██████████| 176/176 [00:00<00:00, 116251.58B/s]\n"
     ]
    }
   ],
   "source": [
    "tokenizer = GPT2Tokenizer.from_pretrained('gpt2')\n",
    "model = GPT2LMHeadModel.from_pretrained('gpt2')"
   ]
  },
  {
   "cell_type": "code",
   "execution_count": 77,
   "metadata": {},
   "outputs": [],
   "source": [
    "output = tokenizer.encode(\"I am beautiful and\")"
   ]
  },
  {
   "cell_type": "code",
   "execution_count": 78,
   "metadata": {},
   "outputs": [],
   "source": [
    "text = output"
   ]
  },
  {
   "cell_type": "code",
   "execution_count": 79,
   "metadata": {},
   "outputs": [],
   "source": [
    "inp, past = torch.tensor([text]), None"
   ]
  },
  {
   "cell_type": "code",
   "execution_count": 83,
   "metadata": {},
   "outputs": [
    {
     "name": "stderr",
     "output_type": "stream",
     "text": [
      "/usr/local/lib/python3.7/site-packages/ipykernel_launcher.py:3: UserWarning: Implicit dimension choice for softmax has been deprecated. Change the call to include dim=X as an argument.\n",
      "  This is separate from the ipykernel package so we can avoid doing imports until\n"
     ]
    }
   ],
   "source": [
    "for _ in range(40):\n",
    "    logits, past = model(inp, past=past)\n",
    "    inp = torch.multinomial(F.softmax(logits[:, -1]), 1)\n",
    "    output.append(inp.item())"
   ]
  },
  {
   "cell_type": "code",
   "execution_count": 84,
   "metadata": {},
   "outputs": [
    {
     "data": {
      "text/plain": [
       "[40,\n",
       " 716,\n",
       " 4950,\n",
       " 290,\n",
       " 599,\n",
       " 3506,\n",
       " 306,\n",
       " 2474,\n",
       " 530,\n",
       " 468,\n",
       " 284,\n",
       " 910,\n",
       " 655,\n",
       " 262,\n",
       " 287,\n",
       " 1557,\n",
       " 414,\n",
       " 2727,\n",
       " 416,\n",
       " 674,\n",
       " 3117,\n",
       " 1634,\n",
       " 13,\n",
       " 2312,\n",
       " 1751,\n",
       " 287,\n",
       " 366,\n",
       " 39427,\n",
       " 576,\n",
       " 1,\n",
       " 2056,\n",
       " 3221,\n",
       " 466,\n",
       " 407,\n",
       " 423,\n",
       " 3590,\n",
       " 7352,\n",
       " 878,\n",
       " 8096,\n",
       " 1612,\n",
       " 2456,\n",
       " 8754,\n",
       " 379,\n",
       " 606,\n",
       " 416,\n",
       " 262,\n",
       " 39877,\n",
       " 784,\n",
       " 511,\n",
       " 29894,\n",
       " 11,\n",
       " 9359,\n",
       " 290,\n",
       " 7506,\n",
       " 318,\n",
       " 517,\n",
       " 991,\n",
       " 621,\n",
       " 618,\n",
       " 484,\n",
       " 13422,\n",
       " 1301,\n",
       " 351,\n",
       " 884]"
      ]
     },
     "execution_count": 84,
     "metadata": {},
     "output_type": "execute_result"
    }
   ],
   "source": [
    "output"
   ]
  },
  {
   "cell_type": "code",
   "execution_count": 85,
   "metadata": {},
   "outputs": [
    {
     "data": {
      "text/plain": [
       "'I am beautiful and sprightly!\" one has to say just the iniquity created by our victimization. These children in \"juvenile\" media usually do not have imaginations before featured mean words thrown at them by the interviewer – their disbelief, awareness and passion is more still than when they tar Trump with such'"
      ]
     },
     "execution_count": 85,
     "metadata": {},
     "output_type": "execute_result"
    }
   ],
   "source": [
    "tokenizer.decode(output)"
   ]
  },
  {
   "cell_type": "code",
   "execution_count": null,
   "metadata": {},
   "outputs": [],
   "source": []
  }
 ],
 "metadata": {
  "kernelspec": {
   "display_name": "Python 3",
   "language": "python",
   "name": "python3"
  },
  "language_info": {
   "codemirror_mode": {
    "name": "ipython",
    "version": 3
   },
   "file_extension": ".py",
   "mimetype": "text/x-python",
   "name": "python",
   "nbconvert_exporter": "python",
   "pygments_lexer": "ipython3",
   "version": "3.7.4"
  }
 },
 "nbformat": 4,
 "nbformat_minor": 2
}
